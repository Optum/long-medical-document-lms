{
 "cells": [
  {
   "cell_type": "markdown",
   "id": "1040143e",
   "metadata": {},
   "source": [
    "### Build 4th CSV for Blind Experiment to Asses Masking Results\n",
    "\n",
    "- 08-25-22\n",
    "- Joel Stremmel\n",
    "\n",
    "##### About\n",
    "\n",
    "This notebook reads the output from the masking experiments and creates new `all_info` and single `exp_data` CSVs."
   ]
  },
  {
   "cell_type": "markdown",
   "id": "2b445fb4",
   "metadata": {},
   "source": [
    "##### Imports"
   ]
  },
  {
   "cell_type": "code",
   "execution_count": 1,
   "id": "e80da2b0",
   "metadata": {},
   "outputs": [],
   "source": [
    "import os\n",
    "import glob\n",
    "import numpy as np\n",
    "import pandas as pd\n",
    "import matplotlib.pyplot as plt\n",
    "from statsmodels.stats.power import TTestIndPower"
   ]
  },
  {
   "cell_type": "markdown",
   "id": "e253e350",
   "metadata": {},
   "source": [
    "##### Set Run Parameters"
   ]
  },
  {
   "cell_type": "code",
   "execution_count": 2,
   "id": "97fe43a6",
   "metadata": {},
   "outputs": [],
   "source": [
    "BASE_PATH = \"../results/masking/exp4_msp_rand_soc_outputs/\"\n",
    "GLOBAL_ALL_INFO_OUTPATH = \"../results/masking/exp4_global_dfs/global_all_info.csv\"\n",
    "GLOBAL_EXP_DATA_OUTPATH = \"../results/masking/exp4_global_dfs/global_exp_data.csv\"\n",
    "SEED = 42\n",
    "SAMPLE_SIZE = 80  # distinct label, doc, algo combinations"
   ]
  },
  {
   "cell_type": "markdown",
   "id": "6da1b8d7",
   "metadata": {},
   "source": [
    "##### Set Seed"
   ]
  },
  {
   "cell_type": "code",
   "execution_count": 3,
   "id": "aecee2ae",
   "metadata": {},
   "outputs": [],
   "source": [
    "np.random.seed(SEED)"
   ]
  },
  {
   "cell_type": "markdown",
   "id": "1432f1ac",
   "metadata": {},
   "source": [
    "##### Load Data and Add Index to Indicate Origin\n",
    "Only grab new results for this 2nd iteration"
   ]
  },
  {
   "cell_type": "code",
   "execution_count": 4,
   "id": "ba19d177",
   "metadata": {},
   "outputs": [
    {
     "name": "stdout",
     "output_type": "stream",
     "text": [
      "Processing file: ../results/masking/exp4_msp_rand_soc_outputs/sample_1228_all_info_20.42_hours.csv...\n",
      "Processing companion file: ../results/masking/exp4_msp_rand_soc_outputs/sample_1228_exp_data_20.42_hours.csv...\n",
      "Processing file: ../results/masking/exp4_msp_rand_soc_outputs/sample_1298_all_info_0.97_hours.csv...\n",
      "Processing companion file: ../results/masking/exp4_msp_rand_soc_outputs/sample_1298_exp_data_0.97_hours.csv...\n",
      "Processing file: ../results/masking/exp4_msp_rand_soc_outputs/sample_491_all_info_12.34_hours.csv...\n",
      "Processing companion file: ../results/masking/exp4_msp_rand_soc_outputs/sample_491_exp_data_12.34_hours.csv...\n",
      "Processing file: ../results/masking/exp4_msp_rand_soc_outputs/sample_1306_all_info_0.88_hours.csv...\n",
      "Processing companion file: ../results/masking/exp4_msp_rand_soc_outputs/sample_1306_exp_data_0.88_hours.csv...\n",
      "Processing file: ../results/masking/exp4_msp_rand_soc_outputs/sample_524_all_info_0.84_hours.csv...\n",
      "Processing companion file: ../results/masking/exp4_msp_rand_soc_outputs/sample_524_exp_data_0.84_hours.csv...\n",
      "Processing file: ../results/masking/exp4_msp_rand_soc_outputs/sample_857_all_info_18.43_hours.csv...\n",
      "Processing companion file: ../results/masking/exp4_msp_rand_soc_outputs/sample_857_exp_data_18.43_hours.csv...\n",
      "Processing file: ../results/masking/exp4_msp_rand_soc_outputs/sample_1426_all_info_0.86_hours.csv...\n",
      "Processing companion file: ../results/masking/exp4_msp_rand_soc_outputs/sample_1426_exp_data_0.86_hours.csv...\n",
      "Processing file: ../results/masking/exp4_msp_rand_soc_outputs/sample_1368_all_info_24.77_hours.csv...\n",
      "Processing companion file: ../results/masking/exp4_msp_rand_soc_outputs/sample_1368_exp_data_24.77_hours.csv...\n",
      "Processing file: ../results/masking/exp4_msp_rand_soc_outputs/sample_424_all_info_0.87_hours.csv...\n",
      "Processing companion file: ../results/masking/exp4_msp_rand_soc_outputs/sample_424_exp_data_0.87_hours.csv...\n",
      "Processing file: ../results/masking/exp4_msp_rand_soc_outputs/sample_359_all_info_0.86_hours.csv...\n",
      "Processing companion file: ../results/masking/exp4_msp_rand_soc_outputs/sample_359_exp_data_0.86_hours.csv...\n",
      "Processing file: ../results/masking/exp4_msp_rand_soc_outputs/sample_121_all_info_10.88_hours.csv...\n",
      "Processing companion file: ../results/masking/exp4_msp_rand_soc_outputs/sample_121_exp_data_10.88_hours.csv...\n",
      "Processing file: ../results/masking/exp4_msp_rand_soc_outputs/sample_74_all_info_12.31_hours.csv...\n",
      "Processing companion file: ../results/masking/exp4_msp_rand_soc_outputs/sample_74_exp_data_12.31_hours.csv...\n",
      "Processing file: ../results/masking/exp4_msp_rand_soc_outputs/sample_629_all_info_0.88_hours.csv...\n",
      "Processing companion file: ../results/masking/exp4_msp_rand_soc_outputs/sample_629_exp_data_0.88_hours.csv...\n",
      "Processing file: ../results/masking/exp4_msp_rand_soc_outputs/sample_1125_all_info_13.92_hours.csv...\n",
      "Processing companion file: ../results/masking/exp4_msp_rand_soc_outputs/sample_1125_exp_data_13.92_hours.csv...\n",
      "Processing file: ../results/masking/exp4_msp_rand_soc_outputs/sample_1601_all_info_22.19_hours.csv...\n",
      "Processing companion file: ../results/masking/exp4_msp_rand_soc_outputs/sample_1601_exp_data_22.19_hours.csv...\n",
      "Processing file: ../results/masking/exp4_msp_rand_soc_outputs/sample_1119_all_info_26.21_hours.csv...\n",
      "Processing companion file: ../results/masking/exp4_msp_rand_soc_outputs/sample_1119_exp_data_26.21_hours.csv...\n",
      "Processing file: ../results/masking/exp4_msp_rand_soc_outputs/sample_157_all_info_11.45_hours.csv...\n",
      "Processing companion file: ../results/masking/exp4_msp_rand_soc_outputs/sample_157_exp_data_11.45_hours.csv...\n",
      "Processing file: ../results/masking/exp4_msp_rand_soc_outputs/sample_1256_all_info_9.3_hours.csv...\n",
      "Processing companion file: ../results/masking/exp4_msp_rand_soc_outputs/sample_1256_exp_data_9.3_hours.csv...\n",
      "Processing file: ../results/masking/exp4_msp_rand_soc_outputs/sample_335_all_info_0.85_hours.csv...\n",
      "Processing companion file: ../results/masking/exp4_msp_rand_soc_outputs/sample_335_exp_data_0.85_hours.csv...\n",
      "Processing file: ../results/masking/exp4_msp_rand_soc_outputs/sample_588_all_info_9.85_hours.csv...\n",
      "Processing companion file: ../results/masking/exp4_msp_rand_soc_outputs/sample_588_exp_data_9.85_hours.csv...\n",
      "Processing file: ../results/masking/exp4_msp_rand_soc_outputs/sample_497_all_info_0.88_hours.csv...\n",
      "Processing companion file: ../results/masking/exp4_msp_rand_soc_outputs/sample_497_exp_data_0.88_hours.csv...\n",
      "Processing file: ../results/masking/exp4_msp_rand_soc_outputs/sample_689_all_info_0.87_hours.csv...\n",
      "Processing companion file: ../results/masking/exp4_msp_rand_soc_outputs/sample_689_exp_data_0.87_hours.csv...\n",
      "Processing file: ../results/masking/exp4_msp_rand_soc_outputs/sample_415_all_info_1.06_hours.csv...\n",
      "Processing companion file: ../results/masking/exp4_msp_rand_soc_outputs/sample_415_exp_data_1.06_hours.csv...\n",
      "Processing file: ../results/masking/exp4_msp_rand_soc_outputs/sample_10_all_info_14.19_hours.csv...\n",
      "Processing companion file: ../results/masking/exp4_msp_rand_soc_outputs/sample_10_exp_data_14.19_hours.csv...\n",
      "Processing file: ../results/masking/exp4_msp_rand_soc_outputs/sample_1721_all_info_0.87_hours.csv...\n",
      "Processing companion file: ../results/masking/exp4_msp_rand_soc_outputs/sample_1721_exp_data_0.87_hours.csv...\n",
      "Processing file: ../results/masking/exp4_msp_rand_soc_outputs/sample_23_all_info_0.86_hours.csv...\n",
      "Processing companion file: ../results/masking/exp4_msp_rand_soc_outputs/sample_23_exp_data_0.86_hours.csv...\n",
      "Processing file: ../results/masking/exp4_msp_rand_soc_outputs/sample_1211_all_info_0.89_hours.csv...\n",
      "Processing companion file: ../results/masking/exp4_msp_rand_soc_outputs/sample_1211_exp_data_0.89_hours.csv...\n",
      "Processing file: ../results/masking/exp4_msp_rand_soc_outputs/sample_557_all_info_0.91_hours.csv...\n",
      "Processing companion file: ../results/masking/exp4_msp_rand_soc_outputs/sample_557_exp_data_0.91_hours.csv...\n",
      "Processing file: ../results/masking/exp4_msp_rand_soc_outputs/sample_989_all_info_0.84_hours.csv...\n",
      "Processing companion file: ../results/masking/exp4_msp_rand_soc_outputs/sample_989_exp_data_0.84_hours.csv...\n",
      "Processing file: ../results/masking/exp4_msp_rand_soc_outputs/sample_622_all_info_0.95_hours.csv...\n",
      "Processing companion file: ../results/masking/exp4_msp_rand_soc_outputs/sample_622_exp_data_0.95_hours.csv...\n",
      "Processing file: ../results/masking/exp4_msp_rand_soc_outputs/sample_1084_all_info_0.86_hours.csv...\n",
      "Processing companion file: ../results/masking/exp4_msp_rand_soc_outputs/sample_1084_exp_data_0.86_hours.csv...\n",
      "Processing file: ../results/masking/exp4_msp_rand_soc_outputs/sample_883_all_info_21.49_hours.csv...\n",
      "Processing companion file: ../results/masking/exp4_msp_rand_soc_outputs/sample_883_exp_data_21.49_hours.csv...\n",
      "Processing file: ../results/masking/exp4_msp_rand_soc_outputs/sample_240_all_info_20.4_hours.csv...\n",
      "Processing companion file: ../results/masking/exp4_msp_rand_soc_outputs/sample_240_exp_data_20.4_hours.csv...\n",
      "Processing file: ../results/masking/exp4_msp_rand_soc_outputs/sample_1166_all_info_8.51_hours.csv...\n",
      "Processing companion file: ../results/masking/exp4_msp_rand_soc_outputs/sample_1166_exp_data_8.51_hours.csv...\n",
      "Processing file: ../results/masking/exp4_msp_rand_soc_outputs/sample_136_all_info_0.95_hours.csv...\n",
      "Processing companion file: ../results/masking/exp4_msp_rand_soc_outputs/sample_136_exp_data_0.95_hours.csv...\n",
      "Processing file: ../results/masking/exp4_msp_rand_soc_outputs/sample_142_all_info_14.09_hours.csv...\n",
      "Processing companion file: ../results/masking/exp4_msp_rand_soc_outputs/sample_142_exp_data_14.09_hours.csv...\n",
      "Processing file: ../results/masking/exp4_msp_rand_soc_outputs/sample_362_all_info_0.93_hours.csv...\n",
      "Processing companion file: ../results/masking/exp4_msp_rand_soc_outputs/sample_362_exp_data_0.93_hours.csv...\n",
      "Processing file: ../results/masking/exp4_msp_rand_soc_outputs/sample_750_all_info_14.36_hours.csv...\n",
      "Processing companion file: ../results/masking/exp4_msp_rand_soc_outputs/sample_750_exp_data_14.36_hours.csv...\n"
     ]
    }
   ],
   "source": [
    "all_info_dfs = []\n",
    "exp_data_dfs = []\n",
    "for i, file in enumerate(glob.glob(f\"{BASE_PATH}*all_info*\")):\n",
    "    if \"all_info\" in file:\n",
    "\n",
    "        # Read all info file\n",
    "        print(f\"Processing file: {file}...\")\n",
    "        d_all_info_df = pd.read_csv(file)\n",
    "        d_all_info_df[\"row_id\"] = d_all_info_df[\"row_id\"].apply(\n",
    "            lambda x: f\"{i}_\" + str(x)\n",
    "        )\n",
    "        all_info_dfs.append(d_all_info_df)\n",
    "\n",
    "        # Read exp data file\n",
    "        companion_file = file.replace(\"all_info\", \"exp_data\")\n",
    "        print(f\"Processing companion file: {companion_file}...\")\n",
    "        d_exp_data_df = pd.read_csv(companion_file)\n",
    "        d_exp_data_df[\"row_id\"] = d_exp_data_df[\"row_id\"].apply(\n",
    "            lambda x: f\"{i}_\" + str(x)\n",
    "        )\n",
    "        exp_data_dfs.append(d_exp_data_df)\n",
    "\n",
    "    else:\n",
    "        print(f\"Skipped reading unexpected file: {file}.\")"
   ]
  },
  {
   "cell_type": "markdown",
   "id": "3340e195",
   "metadata": {},
   "source": [
    "##### Combine Dataframes"
   ]
  },
  {
   "cell_type": "code",
   "execution_count": 5,
   "id": "508c9d02",
   "metadata": {},
   "outputs": [
    {
     "name": "stdout",
     "output_type": "stream",
     "text": [
      "(1850, 12)\n",
      "(1850, 5)\n",
      "(1850, 13)\n"
     ]
    }
   ],
   "source": [
    "all_info_df = pd.concat(all_info_dfs)\n",
    "exp_data_df = pd.concat(exp_data_dfs)\n",
    "combined_df = pd.merge(\n",
    "    all_info_df,\n",
    "    exp_data_df.drop([\"icd_code\", \"icd_description\", \"text_block\"], axis=1),\n",
    "    on=\"row_id\",\n",
    "    how=\"inner\",\n",
    ")\n",
    "print(all_info_df.shape)\n",
    "print(exp_data_df.shape)\n",
    "print(combined_df.shape)"
   ]
  },
  {
   "cell_type": "markdown",
   "id": "82f156b3",
   "metadata": {},
   "source": [
    "##### Create Dataframe of All Label, Document, Algorithm Combinations"
   ]
  },
  {
   "cell_type": "code",
   "execution_count": 6,
   "id": "f323540a",
   "metadata": {},
   "outputs": [
    {
     "name": "stdout",
     "output_type": "stream",
     "text": [
      "(370, 3)\n"
     ]
    }
   ],
   "source": [
    "label_doc_algo_df = combined_df[[\"icd_code\", \"sample\", \"P\"]].drop_duplicates()\n",
    "print(label_doc_algo_df.shape)"
   ]
  },
  {
   "cell_type": "markdown",
   "id": "268da569",
   "metadata": {},
   "source": [
    "##### Identify Number of Samples to Take such that Each Algorithm is Represented the Same Number of Times"
   ]
  },
  {
   "cell_type": "code",
   "execution_count": 7,
   "id": "a8be4a9a",
   "metadata": {},
   "outputs": [
    {
     "name": "stdout",
     "output_type": "stream",
     "text": [
      "{'0.1': 139, 'RANDOM': 139, 'SOC': 92}\n",
      "Will sample text blocks from 80 of each label, doc, algo combination...\n"
     ]
    }
   ],
   "source": [
    "counts = label_doc_algo_df.groupby(\"P\").size().to_frame(\"size\").reset_index()\n",
    "counts_dict = dict(list(zip(counts[\"P\"].tolist(), counts[\"size\"].tolist())))\n",
    "num_samples = min([min(counts_dict.values()), SAMPLE_SIZE])\n",
    "print(counts_dict)\n",
    "print(\n",
    "    f\"Will sample text blocks from {num_samples} of each label, doc, algo combination...\"\n",
    ")"
   ]
  },
  {
   "cell_type": "markdown",
   "id": "2f76654c",
   "metadata": {},
   "source": [
    "##### Sample such that Each Algorithm is Represented the Same Number of Times"
   ]
  },
  {
   "cell_type": "code",
   "execution_count": 8,
   "id": "fc86a8e5",
   "metadata": {},
   "outputs": [
    {
     "name": "stdout",
     "output_type": "stream",
     "text": [
      "(240, 3)\n"
     ]
    }
   ],
   "source": [
    "label_doc_algo_sample_dfs = []\n",
    "for p in counts_dict.keys():\n",
    "    sample_df = label_doc_algo_df[label_doc_algo_df[\"P\"] == p].sample(\n",
    "        num_samples, replace=False, random_state=SEED\n",
    "    )\n",
    "    label_doc_algo_sample_dfs.append(sample_df)\n",
    "label_doc_algo_sample_df = pd.concat(label_doc_algo_sample_dfs)\n",
    "print(label_doc_algo_sample_df.shape)"
   ]
  },
  {
   "cell_type": "markdown",
   "id": "cafc5ab7",
   "metadata": {},
   "source": [
    "##### Join for Text Blocks Associated with Sampled Label, Document, Algorithm Combinations"
   ]
  },
  {
   "cell_type": "code",
   "execution_count": 9,
   "id": "ba632ad1",
   "metadata": {},
   "outputs": [],
   "source": [
    "reduced_df = pd.merge(\n",
    "    combined_df, label_doc_algo_sample_df, on=[\"icd_code\", \"sample\", \"P\"], how=\"inner\"\n",
    ")"
   ]
  },
  {
   "cell_type": "markdown",
   "id": "6227631f",
   "metadata": {},
   "source": [
    "##### Assign Global Random ID"
   ]
  },
  {
   "cell_type": "code",
   "execution_count": 10,
   "id": "6b7dd827",
   "metadata": {},
   "outputs": [],
   "source": [
    "global_row_ids = np.arange(len(reduced_df))\n",
    "np.random.shuffle(global_row_ids)\n",
    "reduced_df[\"global_row_id\"] = global_row_ids"
   ]
  },
  {
   "cell_type": "markdown",
   "id": "8fe01625",
   "metadata": {},
   "source": [
    "##### Check Power for Two Sample T-Test"
   ]
  },
  {
   "cell_type": "code",
   "execution_count": 11,
   "id": "8d9c18d2",
   "metadata": {},
   "outputs": [
    {
     "data": {
      "image/png": "[encoded data removed]",
      "text/plain": [
       "<Figure size 432x288 with 1 Axes>"
      ]
     },
     "metadata": {
      "needs_background": "light"
     },
     "output_type": "display_data"
    }
   ],
   "source": [
    "effect_sizes = np.arange(0, 1, 0.2, dtype=float)\n",
    "sample_sizes = np.array(range(5, num_samples))\n",
    "analysis = TTestIndPower()\n",
    "analysis.plot_power(\n",
    "    dep_var=\"nobs\", nobs=sample_sizes, effect_size=effect_sizes, alpha=0.05\n",
    ")\n",
    "plt.show()"
   ]
  },
  {
   "cell_type": "markdown",
   "id": "d95ea7af",
   "metadata": {},
   "source": [
    "##### Inspect Sample Dataframe"
   ]
  },
  {
   "cell_type": "code",
   "execution_count": 12,
   "id": "560fe8b3",
   "metadata": {},
   "outputs": [
    {
     "name": "stdout",
     "output_type": "stream",
     "text": [
      "(1200, 14)\n",
      "   avg_score_diff                                         text_block icd_code  \\\n",
      "0        0.034548  admission date discharge date date of birth se...    287.5   \n",
      "1        0.026743  medicine allergies ketamine morphine zosyn un ...    287.5   \n",
      "2        0.015898    o n arrival to mic u and remained intubated for    287.5   \n",
      "3        0.013291  shock multifocal pneumonia with pleural effusi...    287.5   \n",
      "4        0.011124            pathology s p multiple ex lap s and r e    287.5   \n",
      "\n",
      "                 icd_description  sample  draws   K    P  runtime_hours  \\\n",
      "0  Thrombocytopenia, unspecified    1228    100  10  SOC          20.42   \n",
      "1  Thrombocytopenia, unspecified    1228    100  10  SOC          20.42   \n",
      "2  Thrombocytopenia, unspecified    1228    100  10  SOC          20.42   \n",
      "3  Thrombocytopenia, unspecified    1228    100  10  SOC          20.42   \n",
      "4  Thrombocytopenia, unspecified    1228    100  10  SOC          20.42   \n",
      "\n",
      "  row_id  p_val   N informative_0_or_1  global_row_id  \n",
      "0    0_6    NaN NaN                  -           1178  \n",
      "1   0_28    NaN NaN                  -            865  \n",
      "2   0_16    NaN NaN                  -            101  \n",
      "3    0_5    NaN NaN                  -            439  \n",
      "4   0_23    NaN NaN                  -             58  \n"
     ]
    }
   ],
   "source": [
    "print(reduced_df.shape)\n",
    "print(reduced_df.head())"
   ]
  },
  {
   "cell_type": "markdown",
   "id": "16b8b094",
   "metadata": {},
   "source": [
    "##### Hide Information from Sample Dataframe to Create Experiment Dataframe"
   ]
  },
  {
   "cell_type": "code",
   "execution_count": 13,
   "id": "eba56d81",
   "metadata": {},
   "outputs": [
    {
     "name": "stderr",
     "output_type": "stream",
     "text": [
      "<ipython-input-13-77e22cc5e760>:1: FutureWarning: In a future version of pandas all arguments of DataFrame.drop except for the argument 'labels' will be keyword-only.\n",
      "  global_exp_data_df = reduced_df[['global_row_id'] + exp_data_df.columns.tolist()].drop('row_id', 1)\n"
     ]
    }
   ],
   "source": [
    "global_exp_data_df = reduced_df[[\"global_row_id\"] + exp_data_df.columns.tolist()].drop(\n",
    "    \"row_id\", 1\n",
    ")"
   ]
  },
  {
   "cell_type": "markdown",
   "id": "b941acc1",
   "metadata": {},
   "source": [
    "##### Inspect Global Dataframes"
   ]
  },
  {
   "cell_type": "code",
   "execution_count": 14,
   "id": "cdbf2976",
   "metadata": {},
   "outputs": [
    {
     "name": "stdout",
     "output_type": "stream",
     "text": [
      "(1200, 5)\n",
      "   global_row_id icd_code                icd_description  \\\n",
      "0           1178    287.5  Thrombocytopenia, unspecified   \n",
      "1            865    287.5  Thrombocytopenia, unspecified   \n",
      "2            101    287.5  Thrombocytopenia, unspecified   \n",
      "3            439    287.5  Thrombocytopenia, unspecified   \n",
      "4             58    287.5  Thrombocytopenia, unspecified   \n",
      "\n",
      "                                          text_block informative_0_or_1  \n",
      "0  admission date discharge date date of birth se...                  -  \n",
      "1  medicine allergies ketamine morphine zosyn un ...                  -  \n",
      "2    o n arrival to mic u and remained intubated for                  -  \n",
      "3  shock multifocal pneumonia with pleural effusi...                  -  \n",
      "4            pathology s p multiple ex lap s and r e                  -  \n"
     ]
    }
   ],
   "source": [
    "print(global_exp_data_df.shape)\n",
    "print(global_exp_data_df.head())"
   ]
  },
  {
   "cell_type": "markdown",
   "id": "585480db",
   "metadata": {},
   "source": [
    "##### Shuffle Rows in Experiment Dataframe"
   ]
  },
  {
   "cell_type": "code",
   "execution_count": 15,
   "id": "7542a05d",
   "metadata": {},
   "outputs": [
    {
     "name": "stdout",
     "output_type": "stream",
     "text": [
      "(1200, 5)\n",
      "      global_row_id icd_code  \\\n",
      "410             593   518.81   \n",
      "199             275    272.0   \n",
      "82              844    403.9   \n",
      "1124            763   414.01   \n",
      "1038            400    287.5   \n",
      "\n",
      "                                        icd_description  \\\n",
      "410                           Acute respiratory failure   \n",
      "199                           Pure hypercholesterolemia   \n",
      "82    Hypertensive chronic kidney disease, unspecifi...   \n",
      "1124  Coronary atherosclerosis of native coronary ar...   \n",
      "1038                      Thrombocytopenia, unspecified   \n",
      "\n",
      "                                             text_block informative_0_or_1  \n",
      "410   w persistent hyper bilirub inemia the most lik...                  -  \n",
      "199   of dementia htn and stroke unclear residual de...                  -  \n",
      "82    admission date discharge date date of birth se...                  -  \n",
      "1124  normal size with normal cardiac doctor last na...                  -  \n",
      "1038  admission date discharge date date of birth se...                  -  \n"
     ]
    }
   ],
   "source": [
    "global_exp_data_df = global_exp_data_df.sample(frac=1)\n",
    "print(global_exp_data_df.shape)\n",
    "print(global_exp_data_df.head())"
   ]
  },
  {
   "cell_type": "markdown",
   "id": "7391c72d",
   "metadata": {},
   "source": [
    "##### Create Global All Info Dataframe"
   ]
  },
  {
   "cell_type": "code",
   "execution_count": 16,
   "id": "b17c1a2d",
   "metadata": {},
   "outputs": [
    {
     "name": "stderr",
     "output_type": "stream",
     "text": [
      "<ipython-input-16-df437d3f0e99>:1: FutureWarning: In a future version of pandas all arguments of DataFrame.drop except for the argument 'labels' will be keyword-only.\n",
      "  global_all_info_df = reduced_df.drop('informative_0_or_1', 1)\n"
     ]
    }
   ],
   "source": [
    "global_all_info_df = reduced_df.drop(\"informative_0_or_1\", 1)"
   ]
  },
  {
   "cell_type": "markdown",
   "id": "a159ebe5",
   "metadata": {},
   "source": [
    "##### Inspect All Info Dataframe"
   ]
  },
  {
   "cell_type": "code",
   "execution_count": 17,
   "id": "3176d186",
   "metadata": {},
   "outputs": [
    {
     "name": "stdout",
     "output_type": "stream",
     "text": [
      "(1200, 13)\n",
      "   avg_score_diff                                         text_block icd_code  \\\n",
      "0        0.034548  admission date discharge date date of birth se...    287.5   \n",
      "1        0.026743  medicine allergies ketamine morphine zosyn un ...    287.5   \n",
      "2        0.015898    o n arrival to mic u and remained intubated for    287.5   \n",
      "3        0.013291  shock multifocal pneumonia with pleural effusi...    287.5   \n",
      "4        0.011124            pathology s p multiple ex lap s and r e    287.5   \n",
      "\n",
      "                 icd_description  sample  draws   K    P  runtime_hours  \\\n",
      "0  Thrombocytopenia, unspecified    1228    100  10  SOC          20.42   \n",
      "1  Thrombocytopenia, unspecified    1228    100  10  SOC          20.42   \n",
      "2  Thrombocytopenia, unspecified    1228    100  10  SOC          20.42   \n",
      "3  Thrombocytopenia, unspecified    1228    100  10  SOC          20.42   \n",
      "4  Thrombocytopenia, unspecified    1228    100  10  SOC          20.42   \n",
      "\n",
      "  row_id  p_val   N  global_row_id  \n",
      "0    0_6    NaN NaN           1178  \n",
      "1   0_28    NaN NaN            865  \n",
      "2   0_16    NaN NaN            101  \n",
      "3    0_5    NaN NaN            439  \n",
      "4   0_23    NaN NaN             58  \n"
     ]
    }
   ],
   "source": [
    "print(global_all_info_df.shape)\n",
    "print(global_all_info_df.head())"
   ]
  },
  {
   "cell_type": "markdown",
   "id": "eabc14b4",
   "metadata": {},
   "source": [
    "##### Save Global Dataframes"
   ]
  },
  {
   "cell_type": "code",
   "execution_count": 18,
   "id": "2a5abb12",
   "metadata": {},
   "outputs": [],
   "source": [
    "global_all_info_df.to_csv(GLOBAL_ALL_INFO_OUTPATH, index=False)\n",
    "global_exp_data_df.to_csv(GLOBAL_EXP_DATA_OUTPATH, index=False)"
   ]
  },
  {
   "cell_type": "code",
   "execution_count": null,
   "id": "f1338f80",
   "metadata": {},
   "outputs": [],
   "source": []
  }
 ],
 "metadata": {
  "kernelspec": {
   "display_name": "Python 3",
   "language": "python",
   "name": "python3"
  },
  "language_info": {
   "codemirror_mode": {
    "name": "ipython",
    "version": 3
   },
   "file_extension": ".py",
   "mimetype": "text/x-python",
   "name": "python",
   "nbconvert_exporter": "python",
   "pygments_lexer": "ipython3",
   "version": "3.8.8"
  }
 },
 "nbformat": 4,
 "nbformat_minor": 5
}
