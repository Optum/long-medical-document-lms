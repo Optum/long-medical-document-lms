{
 "cells": [
  {
   "cell_type": "markdown",
   "id": "1040143e",
   "metadata": {},
   "source": [
    "### Analyze Blind Experiment 4 - Inter Annotator Agreement\n",
    "\n",
    "- 08-30-22\n",
    "- Joel Stremmel\n",
    "\n",
    "##### About\n",
    "\n",
    "This notebook reads the output from the 4th blind experiment and compares annotations for the two reviewers.\n"
   ]
  },
  {
   "cell_type": "markdown",
   "id": "2b445fb4",
   "metadata": {},
   "source": [
    "##### Imports"
   ]
  },
  {
   "cell_type": "code",
   "execution_count": 1,
   "id": "e80da2b0",
   "metadata": {},
   "outputs": [],
   "source": [
    "import numpy as np\n",
    "import pandas as pd\n",
    "import matplotlib.pyplot as plt\n",
    "from scipy.stats.stats import ttest_ind\n",
    "from sklearn.metrics import cohen_kappa_score"
   ]
  },
  {
   "cell_type": "markdown",
   "id": "e253e350",
   "metadata": {},
   "source": [
    "##### Set Run Parameters"
   ]
  },
  {
   "cell_type": "code",
   "execution_count": 2,
   "id": "97fe43a6",
   "metadata": {},
   "outputs": [],
   "source": [
    "BASE_PATH = \"../results/masking/\"\n",
    "GLOBAL_ALL_INFO_INPATH = \"../results/masking/exp4_global_dfs/global_all_info.csv\"\n",
    "GLOBAL_EXP_DATA1_INPATH = \"../results/masking/exp4_global_dfs/r1_results.csv\"\n",
    "GLOBAL_EXP_DATA2_INPATH = \"../results/masking/exp4_global_dfs/r2_results.csv\""
   ]
  },
  {
   "cell_type": "markdown",
   "id": "1432f1ac",
   "metadata": {},
   "source": [
    "##### Load and Combine Experiment Data from Both Reviewers"
   ]
  },
  {
   "cell_type": "code",
   "execution_count": 3,
   "id": "ba19d177",
   "metadata": {},
   "outputs": [
    {
     "name": "stdout",
     "output_type": "stream",
     "text": [
      "(1200, 17)\n"
     ]
    }
   ],
   "source": [
    "# Read all info (hidden during experiment)\n",
    "all_info_df = pd.read_csv(GLOBAL_ALL_INFO_INPATH)\n",
    "\n",
    "# Cast and rename exp_data1 cols\n",
    "exp_data1_df = pd.read_csv(GLOBAL_EXP_DATA1_INPATH)\n",
    "exp_data1_df[\"informative_0_or_1\"] = exp_data1_df[\"informative_0_or_1\"].astype(float)\n",
    "exp_data1_df = exp_data1_df.rename(\n",
    "    columns={\"informative_0_or_1\": \"reviewer1_informative\"}\n",
    ")\n",
    "\n",
    "# Cast and rename exp_data2 cols\n",
    "exp_data2_df = pd.read_csv(GLOBAL_EXP_DATA2_INPATH)\n",
    "exp_data2_df[\"informative_0_or_1\"] = exp_data2_df[\"informative_0_or_1\"].fillna(0)\n",
    "exp_data2_df[\"informative_0_or_1\"] = exp_data2_df[\"informative_0_or_1\"].astype(float)\n",
    "exp_data2_df = exp_data2_df.rename(\n",
    "    columns={\"informative_0_or_1\": \"reviewer2_informative\"}\n",
    ")\n",
    "\n",
    "# Combine non-blinded and blinded data from reviewer 1\n",
    "combined1_df = pd.merge(\n",
    "    all_info_df,\n",
    "    exp_data1_df.drop([\"icd_code\", \"icd_description\", \"text_block\"], axis=1),\n",
    "    on=\"global_row_id\",\n",
    "    how=\"inner\",\n",
    ")\n",
    "\n",
    "# Combine non-blinded and blinded data from reviewer 2\n",
    "combined_df = pd.merge(\n",
    "    combined1_df,\n",
    "    exp_data2_df.drop([\"icd_code\", \"icd_description\", \"text_block\"], axis=1),\n",
    "    on=\"global_row_id\",\n",
    "    how=\"inner\",\n",
    ")\n",
    "\n",
    "print(combined_df.shape)"
   ]
  },
  {
   "cell_type": "markdown",
   "id": "024c0f5f",
   "metadata": {},
   "source": [
    "##### Examine Inter-Annotator Agreement"
   ]
  },
  {
   "cell_type": "code",
   "execution_count": 4,
   "id": "88ce4a12",
   "metadata": {},
   "outputs": [
    {
     "data": {
      "text/plain": [
       "0.95833"
      ]
     },
     "execution_count": 4,
     "metadata": {},
     "output_type": "execute_result"
    }
   ],
   "source": [
    "eq = (\n",
    "    combined_df[\"reviewer1_informative\"].values\n",
    "    == combined_df[\"reviewer2_informative\"].values\n",
    ")\n",
    "round(np.mean(eq), 5)"
   ]
  },
  {
   "cell_type": "code",
   "execution_count": 5,
   "id": "9bc19b6a",
   "metadata": {},
   "outputs": [
    {
     "data": {
      "text/plain": [
       "0.77679"
      ]
     },
     "execution_count": 5,
     "metadata": {},
     "output_type": "execute_result"
    }
   ],
   "source": [
    "round(\n",
    "    cohen_kappa_score(\n",
    "        combined_df[\"reviewer1_informative\"].values,\n",
    "        combined_df[\"reviewer2_informative\"].values,\n",
    "    ),\n",
    "    5,\n",
    ")"
   ]
  },
  {
   "cell_type": "code",
   "execution_count": null,
   "id": "c53f5fa2",
   "metadata": {},
   "outputs": [],
   "source": []
  }
 ],
 "metadata": {
  "kernelspec": {
   "display_name": "Python 3",
   "language": "python",
   "name": "python3"
  },
  "language_info": {
   "codemirror_mode": {
    "name": "ipython",
    "version": 3
   },
   "file_extension": ".py",
   "mimetype": "text/x-python",
   "name": "python",
   "nbconvert_exporter": "python",
   "pygments_lexer": "ipython3",
   "version": "3.8.8"
  }
 },
 "nbformat": 4,
 "nbformat_minor": 5
}
